{
 "cells": [
  {
   "cell_type": "code",
   "execution_count": 1,
   "id": "bec40a3c",
   "metadata": {
    "execution": {
     "iopub.execute_input": "2024-03-18T10:47:03.386394Z",
     "iopub.status.busy": "2024-03-18T10:47:03.385639Z",
     "iopub.status.idle": "2024-03-18T10:47:04.595615Z",
     "shell.execute_reply": "2024-03-18T10:47:04.594437Z"
    },
    "papermill": {
     "duration": 1.217978,
     "end_time": "2024-03-18T10:47:04.598250",
     "exception": false,
     "start_time": "2024-03-18T10:47:03.380272",
     "status": "completed"
    },
    "tags": []
   },
   "outputs": [],
   "source": [
    "import jax\n",
    "import jax.numpy as jnp"
   ]
  },
  {
   "cell_type": "markdown",
   "id": "ea25cdd1",
   "metadata": {
    "papermill": {
     "duration": 0.002575,
     "end_time": "2024-03-18T10:47:04.604168",
     "exception": false,
     "start_time": "2024-03-18T10:47:04.601593",
     "status": "completed"
    },
    "tags": []
   },
   "source": [
    "# Program Synthesis\n",
    "\n",
    "is a method of auto-solving given relationship between example inputs and outputs by laveraging defined set of functions.  \n",
    "The basic idea is that one combines functions to test whether given combination represents required relationship.  "
   ]
  },
  {
   "cell_type": "code",
   "execution_count": 2,
   "id": "e43aeb7e",
   "metadata": {
    "execution": {
     "iopub.execute_input": "2024-03-18T10:47:04.611853Z",
     "iopub.status.busy": "2024-03-18T10:47:04.611342Z",
     "iopub.status.idle": "2024-03-18T10:47:04.617568Z",
     "shell.execute_reply": "2024-03-18T10:47:04.616582Z"
    },
    "papermill": {
     "duration": 0.01259,
     "end_time": "2024-03-18T10:47:04.619541",
     "exception": false,
     "start_time": "2024-03-18T10:47:04.606951",
     "status": "completed"
    },
    "tags": []
   },
   "outputs": [],
   "source": [
    "# Possible h(1) operations\n",
    "\n",
    "def inc(a: int):\n",
    "    return a+1\n",
    "\n",
    "def dec(a: int):\n",
    "    return a-1\n",
    "\n",
    "def square(a: int):\n",
    "    return a**2\n",
    "\n",
    "def zero(a: int):\n",
    "    return 0\n",
    "\n",
    "def double(a: int):\n",
    "    return 2*a\n",
    "\n",
    "h1_operations = [inc, dec, square, zero, double]\n"
   ]
  },
  {
   "cell_type": "code",
   "execution_count": 3,
   "id": "b6fc49ac",
   "metadata": {
    "execution": {
     "iopub.execute_input": "2024-03-18T10:47:04.626704Z",
     "iopub.status.busy": "2024-03-18T10:47:04.626355Z",
     "iopub.status.idle": "2024-03-18T10:47:05.052804Z",
     "shell.execute_reply": "2024-03-18T10:47:05.051826Z"
    },
    "papermill": {
     "duration": 0.432802,
     "end_time": "2024-03-18T10:47:05.055329",
     "exception": false,
     "start_time": "2024-03-18T10:47:04.622527",
     "status": "completed"
    },
    "tags": []
   },
   "outputs": [],
   "source": [
    "# Puzzles for synthesis\n",
    "problem0 = {\n",
    "    \"inputs\": jnp.array([1, 0, 0]),\n",
    "    \"outputs\": jnp.array([2, 0, 0])\n",
    "}\n",
    "\n",
    "problem1 = {\n",
    "    \"inputs\": jnp.array([1, 1, 1]),\n",
    "    \"outputs\": jnp.array([1, 1, 1])\n",
    "}\n",
    "\n",
    "problem2 = {\n",
    "    \"inputs\": jnp.array([1, 1, 1]),\n",
    "    \"outputs\": jnp.array([0, 0, 0])\n",
    "}\n",
    "\n",
    "problem3 = {\n",
    "    \"inputs\": jnp.array([1, 2, 3]),\n",
    "    \"outputs\": jnp.array([2, 4, 6])\n",
    "}\n",
    "\n",
    "problems = [problem0, problem1, problem2, problem3]"
   ]
  },
  {
   "cell_type": "code",
   "execution_count": 4,
   "id": "b9e93b0b",
   "metadata": {
    "execution": {
     "iopub.execute_input": "2024-03-18T10:47:05.063409Z",
     "iopub.status.busy": "2024-03-18T10:47:05.063047Z",
     "iopub.status.idle": "2024-03-18T10:47:05.068380Z",
     "shell.execute_reply": "2024-03-18T10:47:05.067361Z"
    },
    "papermill": {
     "duration": 0.012092,
     "end_time": "2024-03-18T10:47:05.070582",
     "exception": false,
     "start_time": "2024-03-18T10:47:05.058490",
     "status": "completed"
    },
    "tags": []
   },
   "outputs": [],
   "source": [
    "# Heuristics 1 solver (one alternation)\n",
    "def h1_solve(problem, operations):\n",
    "    for operation in operations:\n",
    "        v_op = jax.vmap(operation)\n",
    "        result = v_op(problem[\"inputs\"])\n",
    "        if (result == problem[\"outputs\"]).all():\n",
    "            print(f\"Operation \\\"{operation.__name__}\\\" solves the problem.\")"
   ]
  },
  {
   "cell_type": "code",
   "execution_count": 5,
   "id": "ffd52c34",
   "metadata": {
    "execution": {
     "iopub.execute_input": "2024-03-18T10:47:05.077978Z",
     "iopub.status.busy": "2024-03-18T10:47:05.077624Z",
     "iopub.status.idle": "2024-03-18T10:47:05.314390Z",
     "shell.execute_reply": "2024-03-18T10:47:05.313254Z"
    },
    "papermill": {
     "duration": 0.243174,
     "end_time": "2024-03-18T10:47:05.316850",
     "exception": false,
     "start_time": "2024-03-18T10:47:05.073676",
     "status": "completed"
    },
    "tags": []
   },
   "outputs": [
    {
     "name": "stdout",
     "output_type": "stream",
     "text": [
      "Problem to synthesize: [1 0 0] -> [2 0 0]\n",
      "Operation \"double\" solves the problem.\n",
      "\n",
      "Problem to synthesize: [1 1 1] -> [1 1 1]\n",
      "Operation \"square\" solves the problem.\n",
      "\n",
      "Problem to synthesize: [1 1 1] -> [0 0 0]\n",
      "Operation \"dec\" solves the problem.\n",
      "Operation \"zero\" solves the problem.\n",
      "\n",
      "Problem to synthesize: [1 2 3] -> [2 4 6]\n",
      "Operation \"double\" solves the problem.\n",
      "\n"
     ]
    }
   ],
   "source": [
    "for problem in problems:\n",
    "    print(f\"Problem to synthesize: {problem['inputs']} -> {problem['outputs']}\")\n",
    "    h1_solve(problem, h1_operations)\n",
    "    print()\n"
   ]
  },
  {
   "cell_type": "markdown",
   "id": "effde835",
   "metadata": {
    "papermill": {
     "duration": 0.003006,
     "end_time": "2024-03-18T10:47:05.323279",
     "exception": false,
     "start_time": "2024-03-18T10:47:05.320273",
     "status": "completed"
    },
    "tags": []
   },
   "source": [
    "It is possible for multiple functions to solve given problem."
   ]
  },
  {
   "cell_type": "markdown",
   "id": "37fb0d21",
   "metadata": {
    "papermill": {
     "duration": 0.002987,
     "end_time": "2024-03-18T10:47:05.329452",
     "exception": false,
     "start_time": "2024-03-18T10:47:05.326465",
     "status": "completed"
    },
    "tags": []
   },
   "source": [
    "# Explicit search\n",
    "\n",
    "Explicit search can be achieved two ways: bottom-up and top-down."
   ]
  },
  {
   "cell_type": "code",
   "execution_count": null,
   "id": "7a34c313",
   "metadata": {
    "papermill": {
     "duration": 0.002852,
     "end_time": "2024-03-18T10:47:05.335345",
     "exception": false,
     "start_time": "2024-03-18T10:47:05.332493",
     "status": "completed"
    },
    "tags": []
   },
   "outputs": [],
   "source": []
  },
  {
   "cell_type": "markdown",
   "id": "c5845b3a",
   "metadata": {
    "papermill": {
     "duration": 0.002751,
     "end_time": "2024-03-18T10:47:05.341092",
     "exception": false,
     "start_time": "2024-03-18T10:47:05.338341",
     "status": "completed"
    },
    "tags": []
   },
   "source": [
    "# Symbolic search"
   ]
  },
  {
   "cell_type": "markdown",
   "id": "99f6a872",
   "metadata": {
    "papermill": {
     "duration": 0.003203,
     "end_time": "2024-03-18T10:47:05.347284",
     "exception": false,
     "start_time": "2024-03-18T10:47:05.344081",
     "status": "completed"
    },
    "tags": []
   },
   "source": []
  }
 ],
 "metadata": {
  "kaggle": {
   "accelerator": "none",
   "dataSources": [],
   "dockerImageVersionId": 30664,
   "isGpuEnabled": false,
   "isInternetEnabled": true,
   "language": "python",
   "sourceType": "notebook"
  },
  "kernelspec": {
   "display_name": "ai",
   "language": "python",
   "name": "python3"
  },
  "language_info": {
   "codemirror_mode": {
    "name": "ipython",
    "version": 3
   },
   "file_extension": ".py",
   "mimetype": "text/x-python",
   "name": "python",
   "nbconvert_exporter": "python",
   "pygments_lexer": "ipython3",
   "version": "3.10.13"
  },
  "papermill": {
   "default_parameters": {},
   "duration": 5.278935,
   "end_time": "2024-03-18T10:47:05.871302",
   "environment_variables": {},
   "exception": null,
   "input_path": "__notebook__.ipynb",
   "output_path": "__notebook__.ipynb",
   "parameters": {},
   "start_time": "2024-03-18T10:47:00.592367",
   "version": "2.5.0"
  }
 },
 "nbformat": 4,
 "nbformat_minor": 5
}
